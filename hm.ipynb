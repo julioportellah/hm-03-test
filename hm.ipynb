{
  "nbformat": 4,
  "nbformat_minor": 0,
  "metadata": {
    "anaconda-cloud": {},
    "celltoolbar": "Slideshow",
    "colab": {
      "name": "hm3_starter.ipynb",
      "provenance": [],
      "collapsed_sections": [
        "LSlwyk65biCG"
      ],
      "include_colab_link": true
    },
    "kernelspec": {
      "display_name": "Python 3",
      "language": "python",
      "name": "python3"
    },
    "language_info": {
      "codemirror_mode": {
        "name": "ipython",
        "version": 3
      },
      "file_extension": ".py",
      "mimetype": "text/x-python",
      "name": "python",
      "nbconvert_exporter": "python",
      "pygments_lexer": "ipython3",
      "version": "3.7.6"
    }
  },
  "cells": [
    {
      "cell_type": "markdown",
      "metadata": {
        "id": "view-in-github",
        "colab_type": "text"
      },
      "source": [
        "<a href=\"https://colab.research.google.com/github/julioportellah/hm-03-test/blob/master/hm.ipynb\" target=\"_parent\"><img src=\"https://colab.research.google.com/assets/colab-badge.svg\" alt=\"Open In Colab\"/></a>"
      ]
    },
    {
      "cell_type": "markdown",
      "metadata": {
        "id": "hSXsCkclbiAj"
      },
      "source": [
        "## Introduction to Python Exercises\n",
        "\n",
        "![](https://github.com/rpi-techfundamentals/hm-01-starter/blob/master/notsaved.png?raw=1)\n",
        "\n",
        "**Save your working file in Google drive so that all changes will be saved as you work. MAKE SURE that your final version is saved to GitHub.** \n",
        "\n",
        "Before you turn this in, make sure everything runs as expected. First, restart the kernel (in the menu, select Kernel → Restart) and then run all cells (in the menubar, select Cell → Run All).  You can speak with others regarding the assignment but all work must be your own. \n",
        "\n",
        "\n",
        "### This is a 30 point assignment.\n",
        "\n",
        "**You may find it useful to go through the notebooks from the course materials when doing these exercises.**\n",
        "\n",
        "**If you attempt to fake passing the tests you will receive a 0 on the assignment and it will be considered an ethical violation.**\n"
      ]
    },
    {
      "cell_type": "code",
      "metadata": {
        "colab": {
          "base_uri": "https://localhost:8080/"
        },
        "id": "8TCzCgMRbiAk",
        "outputId": "403eb1ed-f97c-431d-cf94-eee3f6526e83"
      },
      "source": [
        "files = \"https://github.com/rpi-techfundamentals/hm-03-starter/raw/master/files.zip\"\n",
        "!pip install otter-grader IPython && wget $files && unzip -o files.zip\n",
        "!pip install --upgrade IPython"
      ],
      "execution_count": 86,
      "outputs": [
        {
          "output_type": "stream",
          "text": [
            "Requirement already satisfied: otter-grader in /usr/local/lib/python3.7/dist-packages (2.2.4)\n",
            "Requirement already satisfied: IPython in /usr/local/lib/python3.7/dist-packages (7.25.0)\n",
            "Requirement already satisfied: gspread in /usr/local/lib/python3.7/dist-packages (from otter-grader) (3.0.1)\n",
            "Requirement already satisfied: google-api-python-client in /usr/local/lib/python3.7/dist-packages (from otter-grader) (1.12.8)\n",
            "Requirement already satisfied: pdfkit in /usr/local/lib/python3.7/dist-packages (from otter-grader) (0.6.1)\n",
            "Requirement already satisfied: pandas in /usr/local/lib/python3.7/dist-packages (from otter-grader) (1.1.5)\n",
            "Requirement already satisfied: tqdm in /usr/local/lib/python3.7/dist-packages (from otter-grader) (4.41.1)\n",
            "Requirement already satisfied: PyPDF2 in /usr/local/lib/python3.7/dist-packages (from otter-grader) (1.26.0)\n",
            "Requirement already satisfied: ipykernel in /usr/local/lib/python3.7/dist-packages (from otter-grader) (4.10.1)\n",
            "Requirement already satisfied: requests in /usr/local/lib/python3.7/dist-packages (from otter-grader) (2.23.0)\n",
            "Requirement already satisfied: rpy2 in /usr/local/lib/python3.7/dist-packages (from otter-grader) (3.4.5)\n",
            "Requirement already satisfied: jupytext in /usr/local/lib/python3.7/dist-packages (from otter-grader) (1.11.3)\n",
            "Requirement already satisfied: docker in /usr/local/lib/python3.7/dist-packages (from otter-grader) (5.0.0)\n",
            "Requirement already satisfied: jinja2 in /usr/local/lib/python3.7/dist-packages (from otter-grader) (2.11.3)\n",
            "Requirement already satisfied: nbformat in /usr/local/lib/python3.7/dist-packages (from otter-grader) (5.1.3)\n",
            "Requirement already satisfied: codecov in /usr/local/lib/python3.7/dist-packages (from otter-grader) (2.1.11)\n",
            "Requirement already satisfied: ipywidgets in /usr/local/lib/python3.7/dist-packages (from otter-grader) (7.6.3)\n",
            "Requirement already satisfied: six in /usr/local/lib/python3.7/dist-packages (from otter-grader) (1.15.0)\n",
            "Requirement already satisfied: jupyter-client in /usr/local/lib/python3.7/dist-packages (from otter-grader) (5.3.5)\n",
            "Requirement already satisfied: scipy in /usr/local/lib/python3.7/dist-packages (from otter-grader) (1.4.1)\n",
            "Requirement already satisfied: datascience in /usr/local/lib/python3.7/dist-packages (from otter-grader) (0.10.6)\n",
            "Requirement already satisfied: dill in /usr/local/lib/python3.7/dist-packages (from otter-grader) (0.3.4)\n",
            "Requirement already satisfied: google-auth-oauthlib in /usr/local/lib/python3.7/dist-packages (from otter-grader) (0.4.4)\n",
            "Requirement already satisfied: nbconvert in /usr/local/lib/python3.7/dist-packages (from otter-grader) (5.6.1)\n",
            "Requirement already satisfied: matplotlib in /usr/local/lib/python3.7/dist-packages (from otter-grader) (3.2.2)\n",
            "Requirement already satisfied: pexpect>4.3; sys_platform != \"win32\" in /usr/local/lib/python3.7/dist-packages (from IPython) (4.8.0)\n",
            "Requirement already satisfied: matplotlib-inline in /usr/local/lib/python3.7/dist-packages (from IPython) (0.1.2)\n",
            "Requirement already satisfied: decorator in /usr/local/lib/python3.7/dist-packages (from IPython) (4.4.2)\n",
            "Requirement already satisfied: pygments in /usr/local/lib/python3.7/dist-packages (from IPython) (2.6.1)\n",
            "Requirement already satisfied: backcall in /usr/local/lib/python3.7/dist-packages (from IPython) (0.2.0)\n",
            "Requirement already satisfied: jedi>=0.16 in /usr/local/lib/python3.7/dist-packages (from IPython) (0.18.0)\n",
            "Requirement already satisfied: pickleshare in /usr/local/lib/python3.7/dist-packages (from IPython) (0.7.5)\n",
            "Requirement already satisfied: prompt-toolkit!=3.0.0,!=3.0.1,<3.1.0,>=2.0.0 in /usr/local/lib/python3.7/dist-packages (from IPython) (3.0.19)\n",
            "Requirement already satisfied: setuptools>=18.5 in /usr/local/lib/python3.7/dist-packages (from IPython) (57.0.0)\n",
            "Requirement already satisfied: traitlets>=4.2 in /usr/local/lib/python3.7/dist-packages (from IPython) (5.0.5)\n",
            "Requirement already satisfied: google-api-core<2dev,>=1.21.0 in /usr/local/lib/python3.7/dist-packages (from google-api-python-client->otter-grader) (1.26.3)\n",
            "Requirement already satisfied: google-auth>=1.16.0 in /usr/local/lib/python3.7/dist-packages (from google-api-python-client->otter-grader) (1.31.0)\n",
            "Requirement already satisfied: google-auth-httplib2>=0.0.3 in /usr/local/lib/python3.7/dist-packages (from google-api-python-client->otter-grader) (0.0.4)\n",
            "Requirement already satisfied: uritemplate<4dev,>=3.0.0 in /usr/local/lib/python3.7/dist-packages (from google-api-python-client->otter-grader) (3.0.1)\n",
            "Requirement already satisfied: httplib2<1dev,>=0.15.0 in /usr/local/lib/python3.7/dist-packages (from google-api-python-client->otter-grader) (0.17.4)\n",
            "Requirement already satisfied: pytz>=2017.2 in /usr/local/lib/python3.7/dist-packages (from pandas->otter-grader) (2018.9)\n",
            "Requirement already satisfied: python-dateutil>=2.7.3 in /usr/local/lib/python3.7/dist-packages (from pandas->otter-grader) (2.8.1)\n",
            "Requirement already satisfied: numpy>=1.15.4 in /usr/local/lib/python3.7/dist-packages (from pandas->otter-grader) (1.19.5)\n",
            "Requirement already satisfied: tornado>=4.0 in /usr/local/lib/python3.7/dist-packages (from ipykernel->otter-grader) (5.1.1)\n",
            "Requirement already satisfied: urllib3!=1.25.0,!=1.25.1,<1.26,>=1.21.1 in /usr/local/lib/python3.7/dist-packages (from requests->otter-grader) (1.24.3)\n",
            "Requirement already satisfied: idna<3,>=2.5 in /usr/local/lib/python3.7/dist-packages (from requests->otter-grader) (2.10)\n",
            "Requirement already satisfied: chardet<4,>=3.0.2 in /usr/local/lib/python3.7/dist-packages (from requests->otter-grader) (3.0.4)\n",
            "Requirement already satisfied: certifi>=2017.4.17 in /usr/local/lib/python3.7/dist-packages (from requests->otter-grader) (2021.5.30)\n",
            "Requirement already satisfied: tzlocal in /usr/local/lib/python3.7/dist-packages (from rpy2->otter-grader) (1.5.1)\n",
            "Requirement already satisfied: cffi>=1.10.0 in /usr/local/lib/python3.7/dist-packages (from rpy2->otter-grader) (1.14.5)\n",
            "Requirement already satisfied: markdown-it-py[plugins]~=1.0 in /usr/local/lib/python3.7/dist-packages (from jupytext->otter-grader) (1.1.0)\n",
            "Requirement already satisfied: toml in /usr/local/lib/python3.7/dist-packages (from jupytext->otter-grader) (0.10.2)\n",
            "Requirement already satisfied: pyyaml in /usr/local/lib/python3.7/dist-packages (from jupytext->otter-grader) (3.13)\n",
            "Requirement already satisfied: websocket-client>=0.32.0 in /usr/local/lib/python3.7/dist-packages (from docker->otter-grader) (1.1.0)\n",
            "Requirement already satisfied: MarkupSafe>=0.23 in /usr/local/lib/python3.7/dist-packages (from jinja2->otter-grader) (2.0.1)\n",
            "Requirement already satisfied: jupyter-core in /usr/local/lib/python3.7/dist-packages (from nbformat->otter-grader) (4.7.1)\n",
            "Requirement already satisfied: jsonschema!=2.5.0,>=2.4 in /usr/local/lib/python3.7/dist-packages (from nbformat->otter-grader) (2.6.0)\n",
            "Requirement already satisfied: ipython-genutils in /usr/local/lib/python3.7/dist-packages (from nbformat->otter-grader) (0.2.0)\n",
            "Requirement already satisfied: coverage in /usr/local/lib/python3.7/dist-packages (from codecov->otter-grader) (3.7.1)\n",
            "Requirement already satisfied: widgetsnbextension~=3.5.0 in /usr/local/lib/python3.7/dist-packages (from ipywidgets->otter-grader) (3.5.1)\n",
            "Requirement already satisfied: jupyterlab-widgets>=1.0.0; python_version >= \"3.6\" in /usr/local/lib/python3.7/dist-packages (from ipywidgets->otter-grader) (1.0.0)\n",
            "Requirement already satisfied: pyzmq>=13 in /usr/local/lib/python3.7/dist-packages (from jupyter-client->otter-grader) (22.1.0)\n",
            "Requirement already satisfied: pytest in /usr/local/lib/python3.7/dist-packages (from datascience->otter-grader) (3.6.4)\n",
            "Requirement already satisfied: folium==0.2.1 in /usr/local/lib/python3.7/dist-packages (from datascience->otter-grader) (0.2.1)\n",
            "Requirement already satisfied: coveralls==0.5 in /usr/local/lib/python3.7/dist-packages (from datascience->otter-grader) (0.5)\n",
            "Requirement already satisfied: sphinx in /usr/local/lib/python3.7/dist-packages (from datascience->otter-grader) (1.8.5)\n",
            "Requirement already satisfied: requests-oauthlib>=0.7.0 in /usr/local/lib/python3.7/dist-packages (from google-auth-oauthlib->otter-grader) (1.3.0)\n",
            "Requirement already satisfied: mistune<2,>=0.8.1 in /usr/local/lib/python3.7/dist-packages (from nbconvert->otter-grader) (0.8.4)\n",
            "Requirement already satisfied: defusedxml in /usr/local/lib/python3.7/dist-packages (from nbconvert->otter-grader) (0.7.1)\n",
            "Requirement already satisfied: pandocfilters>=1.4.1 in /usr/local/lib/python3.7/dist-packages (from nbconvert->otter-grader) (1.4.3)\n",
            "Requirement already satisfied: bleach in /usr/local/lib/python3.7/dist-packages (from nbconvert->otter-grader) (3.3.0)\n",
            "Requirement already satisfied: testpath in /usr/local/lib/python3.7/dist-packages (from nbconvert->otter-grader) (0.5.0)\n",
            "Requirement already satisfied: entrypoints>=0.2.2 in /usr/local/lib/python3.7/dist-packages (from nbconvert->otter-grader) (0.3)\n",
            "Requirement already satisfied: cycler>=0.10 in /usr/local/lib/python3.7/dist-packages (from matplotlib->otter-grader) (0.10.0)\n",
            "Requirement already satisfied: pyparsing!=2.0.4,!=2.1.2,!=2.1.6,>=2.0.1 in /usr/local/lib/python3.7/dist-packages (from matplotlib->otter-grader) (2.4.7)\n",
            "Requirement already satisfied: kiwisolver>=1.0.1 in /usr/local/lib/python3.7/dist-packages (from matplotlib->otter-grader) (1.3.1)\n",
            "Requirement already satisfied: ptyprocess>=0.5 in /usr/local/lib/python3.7/dist-packages (from pexpect>4.3; sys_platform != \"win32\"->IPython) (0.7.0)\n",
            "Requirement already satisfied: parso<0.9.0,>=0.8.0 in /usr/local/lib/python3.7/dist-packages (from jedi>=0.16->IPython) (0.8.2)\n",
            "Requirement already satisfied: wcwidth in /usr/local/lib/python3.7/dist-packages (from prompt-toolkit!=3.0.0,!=3.0.1,<3.1.0,>=2.0.0->IPython) (0.2.5)\n",
            "Requirement already satisfied: packaging>=14.3 in /usr/local/lib/python3.7/dist-packages (from google-api-core<2dev,>=1.21.0->google-api-python-client->otter-grader) (20.9)\n",
            "Requirement already satisfied: googleapis-common-protos<2.0dev,>=1.6.0 in /usr/local/lib/python3.7/dist-packages (from google-api-core<2dev,>=1.21.0->google-api-python-client->otter-grader) (1.53.0)\n",
            "Requirement already satisfied: protobuf>=3.12.0 in /usr/local/lib/python3.7/dist-packages (from google-api-core<2dev,>=1.21.0->google-api-python-client->otter-grader) (3.12.4)\n",
            "Requirement already satisfied: rsa<5,>=3.1.4; python_version >= \"3.6\" in /usr/local/lib/python3.7/dist-packages (from google-auth>=1.16.0->google-api-python-client->otter-grader) (4.7.2)\n",
            "Requirement already satisfied: pyasn1-modules>=0.2.1 in /usr/local/lib/python3.7/dist-packages (from google-auth>=1.16.0->google-api-python-client->otter-grader) (0.2.8)\n",
            "Requirement already satisfied: cachetools<5.0,>=2.0.0 in /usr/local/lib/python3.7/dist-packages (from google-auth>=1.16.0->google-api-python-client->otter-grader) (4.2.2)\n",
            "Requirement already satisfied: pycparser in /usr/local/lib/python3.7/dist-packages (from cffi>=1.10.0->rpy2->otter-grader) (2.20)\n",
            "Requirement already satisfied: typing-extensions>=3.7.4; python_version < \"3.8\" in /usr/local/lib/python3.7/dist-packages (from markdown-it-py[plugins]~=1.0->jupytext->otter-grader) (3.7.4.3)\n",
            "Requirement already satisfied: attrs<22,>=19 in /usr/local/lib/python3.7/dist-packages (from markdown-it-py[plugins]~=1.0->jupytext->otter-grader) (21.2.0)\n",
            "Requirement already satisfied: mdit-py-plugins; extra == \"plugins\" in /usr/local/lib/python3.7/dist-packages (from markdown-it-py[plugins]~=1.0->jupytext->otter-grader) (0.2.8)\n",
            "Requirement already satisfied: notebook>=4.4.1 in /usr/local/lib/python3.7/dist-packages (from widgetsnbextension~=3.5.0->ipywidgets->otter-grader) (5.3.1)\n",
            "Requirement already satisfied: py>=1.5.0 in /usr/local/lib/python3.7/dist-packages (from pytest->datascience->otter-grader) (1.10.0)\n",
            "Requirement already satisfied: more-itertools>=4.0.0 in /usr/local/lib/python3.7/dist-packages (from pytest->datascience->otter-grader) (8.8.0)\n",
            "Requirement already satisfied: atomicwrites>=1.0 in /usr/local/lib/python3.7/dist-packages (from pytest->datascience->otter-grader) (1.4.0)\n",
            "Requirement already satisfied: pluggy<0.8,>=0.5 in /usr/local/lib/python3.7/dist-packages (from pytest->datascience->otter-grader) (0.7.1)\n",
            "Requirement already satisfied: docopt>=0.6.1 in /usr/local/lib/python3.7/dist-packages (from coveralls==0.5->datascience->otter-grader) (0.6.2)\n",
            "Requirement already satisfied: babel!=2.0,>=1.3 in /usr/local/lib/python3.7/dist-packages (from sphinx->datascience->otter-grader) (2.9.1)\n",
            "Requirement already satisfied: snowballstemmer>=1.1 in /usr/local/lib/python3.7/dist-packages (from sphinx->datascience->otter-grader) (2.1.0)\n",
            "Requirement already satisfied: sphinxcontrib-websupport in /usr/local/lib/python3.7/dist-packages (from sphinx->datascience->otter-grader) (1.2.4)\n",
            "Requirement already satisfied: imagesize in /usr/local/lib/python3.7/dist-packages (from sphinx->datascience->otter-grader) (1.2.0)\n",
            "Requirement already satisfied: docutils>=0.11 in /usr/local/lib/python3.7/dist-packages (from sphinx->datascience->otter-grader) (0.17.1)\n",
            "Requirement already satisfied: alabaster<0.8,>=0.7 in /usr/local/lib/python3.7/dist-packages (from sphinx->datascience->otter-grader) (0.7.12)\n",
            "Requirement already satisfied: oauthlib>=3.0.0 in /usr/local/lib/python3.7/dist-packages (from requests-oauthlib>=0.7.0->google-auth-oauthlib->otter-grader) (3.1.1)\n",
            "Requirement already satisfied: webencodings in /usr/local/lib/python3.7/dist-packages (from bleach->nbconvert->otter-grader) (0.5.1)\n",
            "Requirement already satisfied: pyasn1>=0.1.3 in /usr/local/lib/python3.7/dist-packages (from rsa<5,>=3.1.4; python_version >= \"3.6\"->google-auth>=1.16.0->google-api-python-client->otter-grader) (0.4.8)\n",
            "Requirement already satisfied: Send2Trash in /usr/local/lib/python3.7/dist-packages (from notebook>=4.4.1->widgetsnbextension~=3.5.0->ipywidgets->otter-grader) (1.5.0)\n",
            "Requirement already satisfied: terminado>=0.8.1 in /usr/local/lib/python3.7/dist-packages (from notebook>=4.4.1->widgetsnbextension~=3.5.0->ipywidgets->otter-grader) (0.10.1)\n",
            "Requirement already satisfied: sphinxcontrib-serializinghtml in /usr/local/lib/python3.7/dist-packages (from sphinxcontrib-websupport->sphinx->datascience->otter-grader) (1.1.5)\n",
            "--2021-07-07 04:51:18--  https://github.com/rpi-techfundamentals/hm-03-starter/raw/master/files.zip\n",
            "Resolving github.com (github.com)... 140.82.113.3\n",
            "Connecting to github.com (github.com)|140.82.113.3|:443... connected.\n",
            "HTTP request sent, awaiting response... 302 Found\n",
            "Location: https://raw.githubusercontent.com/rpi-techfundamentals/hm-03-starter/master/files.zip [following]\n",
            "--2021-07-07 04:51:18--  https://raw.githubusercontent.com/rpi-techfundamentals/hm-03-starter/master/files.zip\n",
            "Resolving raw.githubusercontent.com (raw.githubusercontent.com)... 185.199.109.133, 185.199.110.133, 185.199.108.133, ...\n",
            "Connecting to raw.githubusercontent.com (raw.githubusercontent.com)|185.199.109.133|:443... connected.\n",
            "HTTP request sent, awaiting response... 200 OK\n",
            "Length: 45953 (45K) [application/zip]\n",
            "Saving to: ‘files.zip.5’\n",
            "\n",
            "files.zip.5         100%[===================>]  44.88K  --.-KB/s    in 0.02s   \n",
            "\n",
            "2021-07-07 04:51:18 (2.44 MB/s) - ‘files.zip.5’ saved [45953/45953]\n",
            "\n",
            "Archive:  files.zip\n",
            "  inflating: input/test.csv          \n",
            "  inflating: input/iris.csv          \n",
            "  inflating: input/train.csv         \n",
            "  inflating: tests/q01.py            \n",
            "  inflating: tests/q11.py            \n",
            "  inflating: tests/q05.py            \n",
            " extracting: tests/__init__.py       \n",
            "  inflating: tests/q14.py            \n",
            "  inflating: tests/q10.py            \n",
            "  inflating: tests/qname.py          \n",
            "  inflating: tests/q07.py            \n",
            "  inflating: tests/q03.py            \n",
            "  inflating: tests/q13.py            \n",
            "  inflating: tests/q02.py            \n",
            "  inflating: tests/q12.py            \n",
            "  inflating: tests/q06.py            \n",
            "  inflating: tests/.ipynb_checkpoints/q09-checkpoint.py  \n",
            "  inflating: tests/.ipynb_checkpoints/q13-checkpoint.py  \n",
            "  inflating: tests/.ipynb_checkpoints/q14-checkpoint.py  \n",
            "  inflating: tests/.ipynb_checkpoints/q03-checkpoint.py  \n",
            "  inflating: tests/.ipynb_checkpoints/q07-checkpoint.py  \n",
            "  inflating: tests/.ipynb_checkpoints/q10-checkpoint.py  \n",
            "  inflating: tests/.ipynb_checkpoints/q11-checkpoint.py  \n",
            "  inflating: tests/.ipynb_checkpoints/q06-checkpoint.py  \n",
            "  inflating: tests/.ipynb_checkpoints/q02-checkpoint.py  \n",
            "  inflating: tests/.ipynb_checkpoints/q05-checkpoint.py  \n",
            "  inflating: tests/.ipynb_checkpoints/q12-checkpoint.py  \n",
            "  inflating: tests/.ipynb_checkpoints/q01-checkpoint.py  \n",
            "  inflating: tests/.ipynb_checkpoints/q08-checkpoint.py  \n",
            "  inflating: tests/q09.py            \n",
            "  inflating: tests/q08.py            \n",
            "  inflating: hm.ok                   \n",
            "Requirement already up-to-date: IPython in /usr/local/lib/python3.7/dist-packages (7.25.0)\n",
            "Requirement already satisfied, skipping upgrade: traitlets>=4.2 in /usr/local/lib/python3.7/dist-packages (from IPython) (5.0.5)\n",
            "Requirement already satisfied, skipping upgrade: pygments in /usr/local/lib/python3.7/dist-packages (from IPython) (2.6.1)\n",
            "Requirement already satisfied, skipping upgrade: pickleshare in /usr/local/lib/python3.7/dist-packages (from IPython) (0.7.5)\n",
            "Requirement already satisfied, skipping upgrade: setuptools>=18.5 in /usr/local/lib/python3.7/dist-packages (from IPython) (57.0.0)\n",
            "Requirement already satisfied, skipping upgrade: matplotlib-inline in /usr/local/lib/python3.7/dist-packages (from IPython) (0.1.2)\n",
            "Requirement already satisfied, skipping upgrade: pexpect>4.3; sys_platform != \"win32\" in /usr/local/lib/python3.7/dist-packages (from IPython) (4.8.0)\n",
            "Requirement already satisfied, skipping upgrade: prompt-toolkit!=3.0.0,!=3.0.1,<3.1.0,>=2.0.0 in /usr/local/lib/python3.7/dist-packages (from IPython) (3.0.19)\n",
            "Requirement already satisfied, skipping upgrade: decorator in /usr/local/lib/python3.7/dist-packages (from IPython) (4.4.2)\n",
            "Requirement already satisfied, skipping upgrade: jedi>=0.16 in /usr/local/lib/python3.7/dist-packages (from IPython) (0.18.0)\n",
            "Requirement already satisfied, skipping upgrade: backcall in /usr/local/lib/python3.7/dist-packages (from IPython) (0.2.0)\n",
            "Requirement already satisfied, skipping upgrade: ipython-genutils in /usr/local/lib/python3.7/dist-packages (from traitlets>=4.2->IPython) (0.2.0)\n",
            "Requirement already satisfied, skipping upgrade: ptyprocess>=0.5 in /usr/local/lib/python3.7/dist-packages (from pexpect>4.3; sys_platform != \"win32\"->IPython) (0.7.0)\n",
            "Requirement already satisfied, skipping upgrade: wcwidth in /usr/local/lib/python3.7/dist-packages (from prompt-toolkit!=3.0.0,!=3.0.1,<3.1.0,>=2.0.0->IPython) (0.2.5)\n",
            "Requirement already satisfied, skipping upgrade: parso<0.9.0,>=0.8.0 in /usr/local/lib/python3.7/dist-packages (from jedi>=0.16->IPython) (0.8.2)\n"
          ],
          "name": "stdout"
        }
      ]
    },
    {
      "cell_type": "code",
      "metadata": {
        "id": "moTUYN9VbiAm"
      },
      "source": [
        "#Run this. It initiates autograding. \n",
        "import otter\n",
        "grader = otter.Notebook()"
      ],
      "execution_count": 87,
      "outputs": []
    },
    {
      "cell_type": "markdown",
      "metadata": {
        "id": "mAC6v0SQbiAp"
      },
      "source": [
        "## Exercises - For and If and Functions\n",
        "\n",
        "(1). Create a function `list_step` that accepts 3 variables (`start`, `stop`, `step`).  The function returns a list starting at `start`, ending at `stop`, and with a step of `step`.\n",
        "\n",
        "For example:\n",
        "\n",
        "`list_step(5, 19, 2)`\n",
        "\n",
        "Should return: \n",
        "\n",
        "`[5, 7, 9, 11, 13, 15, 17]`\n"
      ]
    },
    {
      "cell_type": "code",
      "metadata": {
        "id": "QM-6RxE3biAp"
      },
      "source": [
        "#Answer question 1 here.\n",
        "def list_step(start, stop, step):\n",
        "    result = []\n",
        "    for i in range(start, stop, step):\n",
        "        result.append(i)\n",
        "    return result"
      ],
      "execution_count": 94,
      "outputs": []
    },
    {
      "cell_type": "code",
      "metadata": {
        "colab": {
          "base_uri": "https://localhost:8080/",
          "height": 47
        },
        "id": "ZyGkeyIabiAs",
        "outputId": "18a8bb4b-d041-4c4a-e019-5a8658e61b9f"
      },
      "source": [
        "list1= list_step(5, 19, 2) #include this code\n",
        "grader.check('q01')"
      ],
      "execution_count": 95,
      "outputs": [
        {
          "output_type": "execute_result",
          "data": {
            "text/html": [
              "<p><strong><pre style='display: inline;'>Question</pre></strong> passed!</p>"
            ],
            "text/plain": [
              "Question results: All test cases passed!"
            ]
          },
          "metadata": {
            "tags": []
          },
          "execution_count": 95
        }
      ]
    },
    {
      "cell_type": "markdown",
      "metadata": {
        "id": "2MlJHdBIbiAv"
      },
      "source": [
        "(2). Create a function `list_divisible` that accepts 3 variables (`start`, `stop`, `divisible`).  Use a for loop to create a list of all numbers from `start` to `stop` which are divisible by `divisible`.\n",
        "\n",
        "For example:\n",
        "\n",
        "`list_divisible(1, 50, 7)`\n",
        "\n",
        "Should return: \n",
        "\n",
        "`[7, 14, 21, 28, 35, 42, 49]`"
      ]
    },
    {
      "cell_type": "code",
      "metadata": {
        "id": "5_MwSa5lbiAv"
      },
      "source": [
        "#Answer question 2 here.\n",
        "def list_divisible(start,stop,divisible):\n",
        "    result = []\n",
        "    for i in range(start, stop):\n",
        "      if i%divisible == 0:\n",
        "        result.append(i)\n",
        "        pass\n",
        "      pass\n",
        "    return result\n"
      ],
      "execution_count": 96,
      "outputs": []
    },
    {
      "cell_type": "code",
      "metadata": {
        "colab": {
          "base_uri": "https://localhost:8080/",
          "height": 47
        },
        "id": "8jttsZuUbiAy",
        "outputId": "df7b0cbf-cbb3-44d7-8f40-a8daa7b79ffe"
      },
      "source": [
        "list2= list_divisible(1, 50, 7) #include this code\n",
        "grader.check('q02')\n"
      ],
      "execution_count": 97,
      "outputs": [
        {
          "output_type": "execute_result",
          "data": {
            "text/html": [
              "<p><strong><pre style='display: inline;'>Question</pre></strong> passed!</p>"
            ],
            "text/plain": [
              "Question results: All test cases passed!"
            ]
          },
          "metadata": {
            "tags": []
          },
          "execution_count": 97
        }
      ]
    },
    {
      "cell_type": "code",
      "metadata": {
        "id": "23k76oWBOcPI"
      },
      "source": [
        ""
      ],
      "execution_count": null,
      "outputs": []
    },
    {
      "cell_type": "markdown",
      "metadata": {
        "id": "kITjg0LJT4_w"
      },
      "source": [
        "this is a **test**"
      ]
    },
    {
      "cell_type": "code",
      "metadata": {
        "id": "CBTSFGU1UEkm",
        "outputId": "da8f79d5-f0ce-417b-df14-86a4f54a5bf8",
        "colab": {
          "base_uri": "https://localhost:8080/"
        }
      },
      "source": [
        "print('hello world')"
      ],
      "execution_count": 98,
      "outputs": [
        {
          "output_type": "stream",
          "text": [
            "hello world\n"
          ],
          "name": "stdout"
        }
      ]
    },
    {
      "cell_type": "markdown",
      "metadata": {
        "id": "uzARLMddOdGD"
      },
      "source": [
        "test this is a test. *Code* `I` **must** "
      ]
    },
    {
      "cell_type": "markdown",
      "metadata": {
        "id": "Uq-Ez73bbiA0"
      },
      "source": [
        "(3). Create a function `list_divisible_not` that accepts 4 variables (`start`, `stop`, `divisible`, `not_divisible`).  Use a for loop to create a list of all numbers from `start` to `stop` which are divisible by `divisible` but not divisible by `not_divisible`.\n",
        "\n",
        "For example:\n",
        "\n",
        "`list_divisible_not(1, 100, 4, 3)`\n",
        "\n",
        "Should return: \n",
        "\n",
        "`[4, 8, 16, 20, 28, 32, 40, 44, 52, 56, 64, 68, 76, 80, 88, 92]`\n"
      ]
    },
    {
      "cell_type": "code",
      "metadata": {
        "id": "v3gDy1YrbiA1"
      },
      "source": [
        "#Answer question 3 here.\n",
        "def list_divisible_not(start,stop,divisible,not_divisible):\n",
        "    result = []\n",
        "    for i in range(start, stop):\n",
        "      if i%divisible == 0 and i%not_divisible !=0:\n",
        "        result.append(i)\n",
        "        pass\n",
        "      pass\n",
        "    return result\n"
      ],
      "execution_count": 84,
      "outputs": []
    },
    {
      "cell_type": "code",
      "metadata": {
        "colab": {
          "base_uri": "https://localhost:8080/",
          "height": 47
        },
        "id": "8SbK9vjgbiA3",
        "outputId": "0179ec99-dbb1-4cea-9c63-9e5ea258b567"
      },
      "source": [
        "list3= list_divisible_not(1, 100, 4, 3) #include this code\n",
        "grader.check('q03')"
      ],
      "execution_count": 85,
      "outputs": [
        {
          "output_type": "execute_result",
          "data": {
            "text/html": [
              "<p><strong><pre style='display: inline;'>Question</pre></strong> passed!</p>"
            ],
            "text/plain": [
              "Question results: All test cases passed!"
            ]
          },
          "metadata": {
            "tags": []
          },
          "execution_count": 85
        }
      ]
    },
    {
      "cell_type": "markdown",
      "metadata": {
        "id": "NxikYaAUbiA5"
      },
      "source": [
        "## Exercises-Titanic\n",
        "\n",
        "The following exercises will use the titanic data from Kaggle.  I've included it in the input folder just like Kaggle. "
      ]
    },
    {
      "cell_type": "code",
      "metadata": {
        "id": "eXeFgxJ5biA7"
      },
      "source": [
        "import numpy as np \n",
        "import pandas as pd \n",
        "\n",
        "# Input data files are available in the \"../input/\" directory.\n",
        "# Let's input them into a Pandas DataFrame\n",
        "train = pd.read_csv(\"./input/train.csv\")\n",
        "test  = pd.read_csv(\"./input/test.csv\")"
      ],
      "execution_count": 70,
      "outputs": []
    },
    {
      "cell_type": "markdown",
      "metadata": {
        "id": "djs2sUOWbiA-"
      },
      "source": [
        "(4) What is the key difference between the train and the test?"
      ]
    },
    {
      "cell_type": "code",
      "metadata": {
        "id": "9kqVcP-7biA-"
      },
      "source": [
        "man4=\"\"\"\n",
        "\n",
        "\"\"\""
      ],
      "execution_count": 71,
      "outputs": []
    },
    {
      "cell_type": "markdown",
      "metadata": {
        "id": "anLIL5fTbiBA"
      },
      "source": [
        "(5) Create a new column `family` that is equal to the `SibSp` * `Parch` for both the train and the test dataframes.  DON'T use a `for` loop. \n"
      ]
    },
    {
      "cell_type": "code",
      "metadata": {
        "id": "Q7j4F61AbiBB"
      },
      "source": [
        "#Answer \n",
        "train['family'] = train.SibSp*train.Parch\n",
        "test['family'] = test.SibSp*test.Parch"
      ],
      "execution_count": 72,
      "outputs": []
    },
    {
      "cell_type": "code",
      "metadata": {
        "colab": {
          "base_uri": "https://localhost:8080/",
          "height": 47
        },
        "id": "lrzDBkWUbiBD",
        "outputId": "d8fec262-93c7-4b40-c40d-18924edd5f0f"
      },
      "source": [
        "grader.check('q05')"
      ],
      "execution_count": 73,
      "outputs": [
        {
          "output_type": "execute_result",
          "data": {
            "text/html": [
              "<p><strong><pre style='display: inline;'>Question</pre></strong> passed!</p>"
            ],
            "text/plain": [
              "Question results: All test cases passed!"
            ]
          },
          "metadata": {
            "tags": []
          },
          "execution_count": 73
        }
      ]
    },
    {
      "cell_type": "markdown",
      "metadata": {
        "id": "g5jaVVvybiBF"
      },
      "source": [
        "\n",
        "(6). While we can submit our answer to Kaggle to see how it will perform, we can also utilize our training data to assess accuracy. Accuracy is the percentage of predictions made correctly-i.e., the percentage of people in which our prediction regarding their survival is correct. In other words, accuracy = (#correct predictions)/(Total # of predictions). Create a function `generate_accuracy` which accepts two Pandas series objects (`predicted`, `actual`) and returns the accuracy.  \n",
        "\n",
        "For example, when a and b are two different Pandas Series: \n",
        "`generate_accuracy(predicted, actual)`\n",
        "\n",
        "For the sample data below, the data should retun `50.0` (i.e., a percentage).\n",
        "\n"
      ]
    },
    {
      "cell_type": "markdown",
      "metadata": {
        "id": "QkyRYO2SNjNl"
      },
      "source": [
        "*This is a test*\n"
      ]
    },
    {
      "cell_type": "code",
      "metadata": {
        "colab": {
          "base_uri": "https://localhost:8080/",
          "height": 175
        },
        "id": "FvXAq_TjbiBG",
        "outputId": "b10bccd5-1121-4d18-be29-252c6212549e"
      },
      "source": [
        "#Example DATA\n",
        "import pandas as pd\n",
        "ex = [{'predicted': 1, 'actual': 1},\n",
        "         {'predicted': 1,  'actual': 0},\n",
        "         {'predicted': 0,  'actual': 1},\n",
        "         {'predicted': 0,  'actual': 0} ]\n",
        "\n",
        "df = pd.DataFrame(ex)\n",
        "df"
      ],
      "execution_count": 13,
      "outputs": [
        {
          "output_type": "execute_result",
          "data": {
            "text/html": [
              "<div>\n",
              "<style scoped>\n",
              "    .dataframe tbody tr th:only-of-type {\n",
              "        vertical-align: middle;\n",
              "    }\n",
              "\n",
              "    .dataframe tbody tr th {\n",
              "        vertical-align: top;\n",
              "    }\n",
              "\n",
              "    .dataframe thead th {\n",
              "        text-align: right;\n",
              "    }\n",
              "</style>\n",
              "<table border=\"1\" class=\"dataframe\">\n",
              "  <thead>\n",
              "    <tr style=\"text-align: right;\">\n",
              "      <th></th>\n",
              "      <th>predicted</th>\n",
              "      <th>actual</th>\n",
              "    </tr>\n",
              "  </thead>\n",
              "  <tbody>\n",
              "    <tr>\n",
              "      <th>0</th>\n",
              "      <td>1</td>\n",
              "      <td>1</td>\n",
              "    </tr>\n",
              "    <tr>\n",
              "      <th>1</th>\n",
              "      <td>1</td>\n",
              "      <td>0</td>\n",
              "    </tr>\n",
              "    <tr>\n",
              "      <th>2</th>\n",
              "      <td>0</td>\n",
              "      <td>1</td>\n",
              "    </tr>\n",
              "    <tr>\n",
              "      <th>3</th>\n",
              "      <td>0</td>\n",
              "      <td>0</td>\n",
              "    </tr>\n",
              "  </tbody>\n",
              "</table>\n",
              "</div>"
            ],
            "text/plain": [
              "   predicted  actual\n",
              "0          1       1\n",
              "1          1       0\n",
              "2          0       1\n",
              "3          0       0"
            ]
          },
          "metadata": {
            "tags": []
          },
          "execution_count": 13
        }
      ]
    },
    {
      "cell_type": "code",
      "metadata": {
        "colab": {
          "base_uri": "https://localhost:8080/"
        },
        "id": "ou4dAw_UbiBH",
        "outputId": "9e255631-a20e-488d-c8a5-ae443b45f393"
      },
      "source": [
        "#Answer\n",
        "\n",
        "def generate_accuracy(predicted, actual):\n",
        "  #accuracy = (#correct predictions)/(Total # of predictions)\n",
        "  total_predictions = predicted.shape[0]\n",
        "  correct_predictions = np.sum(predicted.values==actual.values)\n",
        "  return correct_predictions/total_predictions*100\n",
        "generate_accuracy(df.predicted,df.actual)\n",
        "\n"
      ],
      "execution_count": 14,
      "outputs": [
        {
          "output_type": "execute_result",
          "data": {
            "text/plain": [
              "50.0"
            ]
          },
          "metadata": {
            "tags": []
          },
          "execution_count": 14
        }
      ]
    },
    {
      "cell_type": "code",
      "metadata": {
        "colab": {
          "base_uri": "https://localhost:8080/",
          "height": 47
        },
        "id": "cD_ea-GcbiBK",
        "outputId": "04a4bc7d-762f-482c-8ec0-b19cf7aeda75"
      },
      "source": [
        "grader.check('q06')"
      ],
      "execution_count": 15,
      "outputs": [
        {
          "output_type": "execute_result",
          "data": {
            "text/html": [
              "<p><strong><pre style='display: inline;'>Question</pre></strong> passed!</p>"
            ],
            "text/plain": [
              "Question results: All test cases passed!"
            ]
          },
          "metadata": {
            "tags": []
          },
          "execution_count": 15
        }
      ]
    },
    {
      "cell_type": "markdown",
      "metadata": {
        "id": "L0GTY_EcbiBN"
      },
      "source": [
        "(7) Create a column `PredEveryoneDies` which is equal to 0 for everyone in both training and testing datasets. "
      ]
    },
    {
      "cell_type": "code",
      "metadata": {
        "id": "dlWR17fEbiBN"
      },
      "source": [
        "#Answer\n",
        "train['PredEveryoneDies'] = 0\n",
        "test['PredEveryoneDies'] = 0"
      ],
      "execution_count": 41,
      "outputs": []
    },
    {
      "cell_type": "code",
      "metadata": {
        "colab": {
          "base_uri": "https://localhost:8080/",
          "height": 47
        },
        "id": "v1FV-k1hbiBP",
        "outputId": "eb149a51-f5fb-4339-8f90-cfffd53f5330"
      },
      "source": [
        "grader.check('q07')"
      ],
      "execution_count": 17,
      "outputs": [
        {
          "output_type": "execute_result",
          "data": {
            "text/html": [
              "<p><strong><pre style='display: inline;'>Question</pre></strong> passed!</p>"
            ],
            "text/plain": [
              "Question results: All test cases passed!"
            ]
          },
          "metadata": {
            "tags": []
          },
          "execution_count": 17
        }
      ]
    },
    {
      "cell_type": "markdown",
      "metadata": {
        "id": "51O0IxAbbiBS"
      },
      "source": [
        "(8) Find the accuracy of `PredEveryoneDies` in predicting `Survived` using the function `generate_accuracy` that you created earlier and assign it to the `AccEveryoneDies` variable. "
      ]
    },
    {
      "cell_type": "code",
      "metadata": {
        "id": "sZ_S3mZ0biBS"
      },
      "source": [
        "# Answer\n",
        "AccEveryoneDies = generate_accuracy(train['PredEveryoneDies'],train['Survived'])\n"
      ],
      "execution_count": 18,
      "outputs": []
    },
    {
      "cell_type": "code",
      "metadata": {
        "colab": {
          "base_uri": "https://localhost:8080/",
          "height": 47
        },
        "id": "rs1ZieiWbiBZ",
        "outputId": "815fe980-bd05-4a76-b0d7-3ee3e113c411"
      },
      "source": [
        "grader.check('q08')"
      ],
      "execution_count": 19,
      "outputs": [
        {
          "output_type": "execute_result",
          "data": {
            "text/html": [
              "<p><strong><pre style='display: inline;'>Question</pre></strong> passed!</p>"
            ],
            "text/plain": [
              "Question results: All test cases passed!"
            ]
          },
          "metadata": {
            "tags": []
          },
          "execution_count": 19
        }
      ]
    },
    {
      "cell_type": "markdown",
      "metadata": {
        "id": "2VJPRTrCbiBb"
      },
      "source": [
        "(9) In both the training and testing datasets, create the column `PredGender` that is 1 -- if the person is a woman and 0 -- if the person is a man. (This is based on the \"women and children first\" law of shipwrecks).  Then set `AccGender` to the accuracy of the `PredGender` in the Train dataset.\n"
      ]
    },
    {
      "cell_type": "code",
      "metadata": {
        "colab": {
          "base_uri": "https://localhost:8080/"
        },
        "id": "vNfJ_qRzDEGa",
        "outputId": "57905217-4739-405d-832b-81704ef69c00"
      },
      "source": [
        "train.Sex"
      ],
      "execution_count": 21,
      "outputs": [
        {
          "output_type": "execute_result",
          "data": {
            "text/plain": [
              "0        male\n",
              "1      female\n",
              "2      female\n",
              "3      female\n",
              "4        male\n",
              "        ...  \n",
              "886      male\n",
              "887    female\n",
              "888    female\n",
              "889      male\n",
              "890      male\n",
              "Name: Sex, Length: 891, dtype: object"
            ]
          },
          "metadata": {
            "tags": []
          },
          "execution_count": 21
        }
      ]
    },
    {
      "cell_type": "code",
      "metadata": {
        "id": "YQPXJQ8bbiBb"
      },
      "source": [
        "#Answer\n",
        "train['PredGender']=np.where(train.Sex=='female',1,0)\n",
        "test['PredGender']=np.where(test.Sex=='female',1,0)\n",
        "AccGender  = generate_accuracy(train['PredGender'],train['Survived'])"
      ],
      "execution_count": 53,
      "outputs": []
    },
    {
      "cell_type": "code",
      "metadata": {
        "colab": {
          "base_uri": "https://localhost:8080/",
          "height": 47
        },
        "id": "LYA7qFwEbiBe",
        "outputId": "5392077c-9ee9-4194-c2aa-1a8170158265"
      },
      "source": [
        "grader.check('q09')"
      ],
      "execution_count": 54,
      "outputs": [
        {
          "output_type": "execute_result",
          "data": {
            "text/html": [
              "<p><strong><pre style='display: inline;'>Question</pre></strong> passed!</p>"
            ],
            "text/plain": [
              "Question results: All test cases passed!"
            ]
          },
          "metadata": {
            "tags": []
          },
          "execution_count": 54
        }
      ]
    },
    {
      "cell_type": "markdown",
      "metadata": {
        "id": "DJ_IGh2ubiBh"
      },
      "source": [
        "(10). Create a `generate_submission` function that accepts a DataFrame, a target column, and a filename (`df`, `target`, `filename`) and writes out the submission file with just the `passengerID` and the `Survived` columns, where the `Survived` column is equal to the target column.\n",
        "\n",
        "For example:\n",
        "`submitdie = generate_submission(train, 'PredEveryoneDies', 'submiteveryonedies.csv')`\n",
        "\n",
        "Should return a dataframe with just `passengerID` and the `Survived` column.  \n",
        "\n",
        "**Make sure your submission file prediction for Survived is an integer and not at float. If you submit a float it may not work.**\n"
      ]
    },
    {
      "cell_type": "code",
      "metadata": {
        "id": "F4vp7SOwbiBi"
      },
      "source": [
        "#Answer\n",
        "def generate_submission(df, target, filename):\n",
        "  df_selected = df.loc[df.Survived == df[target]][['PassengerId', 'Survived']]\n",
        "  df_selected.to_csv(filename)\n",
        "  return df_selected"
      ],
      "execution_count": 55,
      "outputs": []
    },
    {
      "cell_type": "code",
      "metadata": {
        "id": "iR6tr66SEyPh"
      },
      "source": [
        "submitdie = generate_submission(train, 'PredEveryoneDies', 'submiteveryonedies.csv')"
      ],
      "execution_count": 51,
      "outputs": []
    },
    {
      "cell_type": "code",
      "metadata": {
        "colab": {
          "base_uri": "https://localhost:8080/"
        },
        "id": "b6JwudJUHiwf",
        "outputId": "a2d55acb-c587-4128-f518-c3f3fb0f603f"
      },
      "source": [
        "train.loc[train.Survived==0].shape"
      ],
      "execution_count": 62,
      "outputs": [
        {
          "output_type": "execute_result",
          "data": {
            "text/plain": [
              "(549, 15)"
            ]
          },
          "metadata": {
            "tags": []
          },
          "execution_count": 62
        }
      ]
    },
    {
      "cell_type": "code",
      "metadata": {
        "colab": {
          "base_uri": "https://localhost:8080/"
        },
        "id": "Lq3gY8lKHbco",
        "outputId": "4b390cc0-2f4e-4ada-acc1-b8cff816080f"
      },
      "source": [
        "submitdie.shape"
      ],
      "execution_count": 58,
      "outputs": [
        {
          "output_type": "execute_result",
          "data": {
            "text/plain": [
              "(549, 2)"
            ]
          },
          "metadata": {
            "tags": []
          },
          "execution_count": 58
        }
      ]
    },
    {
      "cell_type": "code",
      "metadata": {
        "colab": {
          "base_uri": "https://localhost:8080/",
          "height": 328
        },
        "id": "fLk5RV8JbiBk",
        "outputId": "27d071fb-b777-4217-f210-28f25785ce15"
      },
      "source": [
        "grader.check('q10')"
      ],
      "execution_count": 57,
      "outputs": [
        {
          "output_type": "execute_result",
          "data": {
            "text/html": [
              "<p><strong style='color: red;'><pre style='display: inline;'>Question</pre> results:</strong></p><p><strong><pre style='display: inline;'>Question - 1</pre> result:</strong></p><pre>    Test case passed!</pre><p><strong><pre style='display: inline;'>Question - 2</pre> result:</strong></p><pre>    Trying:\n",
              "        generate_submission(train, 'PredEveryoneDies', 'submiteveryonedies.csv').shape\n",
              "    Expecting:\n",
              "        (891, 2)\n",
              "    **********************************************************************\n",
              "    Line 2, in Question 1\n",
              "    Failed example:\n",
              "        generate_submission(train, 'PredEveryoneDies', 'submiteveryonedies.csv').shape\n",
              "    Expected:\n",
              "        (891, 2)\n",
              "    Got:\n",
              "        (549, 2)\n",
              "</pre>"
            ],
            "text/plain": [
              "Question results:\n",
              "    Question - 1 result:\n",
              "        Test case passed!\n",
              "\n",
              "    Question - 2 result:\n",
              "        Trying:\n",
              "            generate_submission(train, 'PredEveryoneDies', 'submiteveryonedies.csv').shape\n",
              "        Expecting:\n",
              "            (891, 2)\n",
              "        **********************************************************************\n",
              "        Line 2, in Question 1\n",
              "        Failed example:\n",
              "            generate_submission(train, 'PredEveryoneDies', 'submiteveryonedies.csv').shape\n",
              "        Expected:\n",
              "            (891, 2)\n",
              "        Got:\n",
              "            (549, 2)"
            ]
          },
          "metadata": {
            "tags": []
          },
          "execution_count": 57
        }
      ]
    },
    {
      "cell_type": "markdown",
      "metadata": {
        "id": "hJd-vOiZbiBm"
      },
      "source": [
        "(11).  To use the [women and children first](https://en.wikipedia.org/wiki/Women_and_children_first) protocol, we will need to use the age field. This has some missing values. We are going to replace null values in the train and test set with the median value for each.  \n",
        "\n",
        "\n",
        "For this particular question: \n",
        "\n",
        "Set the variables `AgeMissingTrain` and `AgeMissingTest` using the count of the number of missing values in the train and test sets, respectively.\n",
        "\n",
        "Set the variable `AgeMedianTrain` and `AgeMedianTest` using the median age of the train and test sets, respectively. "
      ]
    },
    {
      "cell_type": "code",
      "metadata": {
        "id": "aFyw0ZeSbiBm"
      },
      "source": [
        "#Answer\n"
      ],
      "execution_count": null,
      "outputs": []
    },
    {
      "cell_type": "code",
      "metadata": {
        "id": "bR36brWDbiBo"
      },
      "source": [
        "grader.check('q11')"
      ],
      "execution_count": null,
      "outputs": []
    },
    {
      "cell_type": "markdown",
      "metadata": {
        "id": "o8F0wyrEbiBq"
      },
      "source": [
        "(12) For rows in which the age value is  missing, set the age to the appropriate median value for the train/test set. "
      ]
    },
    {
      "cell_type": "code",
      "metadata": {
        "id": "319cK3sNbiBq"
      },
      "source": [
        "#Answer\n"
      ],
      "execution_count": null,
      "outputs": []
    },
    {
      "cell_type": "code",
      "metadata": {
        "id": "VIWAu76wbiBw"
      },
      "source": [
        "grader.check('q12')"
      ],
      "execution_count": null,
      "outputs": []
    },
    {
      "cell_type": "markdown",
      "metadata": {
        "id": "4WYb1qQ6biBy"
      },
      "source": [
        "\n",
        "(13). In our initial calculation of the `PredGender` column, we made our prediction based on whether the individual was male or female.  In accordance to the [women and children first](https://en.wikipedia.org/wiki/Women_and_children_first) protocol, we hypothesize that our model could be improved by including whether the individual was a child in addition to gender. We also have a question, what age to use to determine \"child\"? (People weren't likely to check for IDs.)  We will check 2 ages...<13 and <18 (somewhat arbitrary but have to start somewhere) and see which yields a better accuracy. <br>\n",
        "\n",
        "<br> \n",
        "\n",
        "Specifically, create 2 predictions as follows:\n",
        "\n",
        "`train['PredGenderAge13']` should be the prediction incorporating both Gender (women survive) and Age (Children Age<13 survived while Age>=13 died)  <br>\n",
        "`train['PredGenderAge18']` should be the prediction incorporating both Gender (women survive) and Age (Children Age<18 survived while Age>=18 died)  <br>\n",
        "\n",
        "*The analysis assumes that you have addressed missing values in the earlier step and you should do it for both the train and test dataframes*"
      ]
    },
    {
      "cell_type": "code",
      "metadata": {
        "id": "Z_RXLnoXbiBz"
      },
      "source": [
        "#Answer\n"
      ],
      "execution_count": null,
      "outputs": []
    },
    {
      "cell_type": "code",
      "metadata": {
        "id": "bg1Fep69biB1"
      },
      "source": [
        "grader.check('q13')"
      ],
      "execution_count": null,
      "outputs": []
    },
    {
      "cell_type": "markdown",
      "metadata": {
        "id": "FYkYiEckbiB3"
      },
      "source": [
        "(14). Calculate the accuracy for your new predictions.  Use `PredGenderAge13` in the training set to calculate `AccGenderAge13` (you can use your function again!) and `PredGenderAge18` to calcuate `AccGenderAge18`. "
      ]
    },
    {
      "cell_type": "code",
      "metadata": {
        "id": "udYOXsOxbiB3"
      },
      "source": [
        "#Answer\n"
      ],
      "execution_count": null,
      "outputs": []
    },
    {
      "cell_type": "code",
      "metadata": {
        "id": "y5mSZcrTbiB5"
      },
      "source": [
        "grader.check('q14')"
      ],
      "execution_count": null,
      "outputs": []
    },
    {
      "cell_type": "markdown",
      "metadata": {
        "id": "X_ZLsCx5biCA"
      },
      "source": [
        "(15). You should find that the accuracy is higher when using 13 as a designation for a child than 18. What does this tell you about the role of age in surviving a shipwreck? "
      ]
    },
    {
      "cell_type": "code",
      "metadata": {
        "id": "8_GkUNYcbiCB"
      },
      "source": [
        "\n",
        "man15=\"\"\"\n",
        "Answer here.\n",
        "\"\"\""
      ],
      "execution_count": null,
      "outputs": []
    },
    {
      "cell_type": "markdown",
      "metadata": {
        "id": "5QoaQ9hQbiCD"
      },
      "source": [
        "(16) Create a prediction file for the \"women and children first\" model in using the test dataset and upload it to Kaggle. Go through the process of uploading it to Kaggle. Put your Kaggle username so we can verify your prediction occued. \n",
        "\n",
        "**Make sure your submission file prediction is an integer and not at float. If you submit a float it may not work.**"
      ]
    },
    {
      "cell_type": "code",
      "metadata": {
        "id": "KFSWJLZYbiCD"
      },
      "source": [
        "kaggle_username=\"***your kaggle username****\"\n",
        "man15=\"https://www.kaggle.com/\"+kaggle_username+\"/competitions\"\n",
        "#This gives a link to your competition page\n",
        "man15"
      ],
      "execution_count": null,
      "outputs": []
    }
  ]
}